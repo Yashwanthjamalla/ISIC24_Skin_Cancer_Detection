{
 "cells": [
  {
   "cell_type": "code",
   "execution_count": 1,
   "id": "1250c9d7",
   "metadata": {},
   "outputs": [],
   "source": [
    "from fastai.vision.all import *\n",
    "from fastcore.parallel import *\n",
    "import fastai\n",
    "import pandas as pd\n",
    "from pathlib import Path\n",
    "\n",
    "import torch\n",
    "from torch.utils.data import Dataset\n",
    "\n",
    " \n",
    "\n",
    "# Set paths\n",
    "path = Path(\"/kaggle/input/isic-2024-challenge/\")\n",
    "train_metadata_path = path / 'train-metadata.csv'\n",
    "images_path = path / 'train-image/image/'"
   ]
  },
  {
   "cell_type": "markdown",
   "id": "67134930",
   "metadata": {},
   "source": [
    "# Preparing metadata file and merge with images"
   ]
  },
  {
   "cell_type": "code",
   "execution_count": null,
   "id": "4254c6a5",
   "metadata": {},
   "outputs": [],
   "source": []
  }
 ],
 "metadata": {
  "kernelspec": {
   "display_name": "base",
   "language": "python",
   "name": "python3"
  },
  "language_info": {
   "codemirror_mode": {
    "name": "ipython",
    "version": 3
   },
   "file_extension": ".py",
   "mimetype": "text/x-python",
   "name": "python",
   "nbconvert_exporter": "python",
   "pygments_lexer": "ipython3",
   "version": "3.13.5"
  }
 },
 "nbformat": 4,
 "nbformat_minor": 5
}
