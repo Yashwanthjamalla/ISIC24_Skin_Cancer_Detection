{
 "cells": [
  {
   "cell_type": "code",
   "execution_count": 1,
   "id": "c5f177de",
   "metadata": {},
   "outputs": [],
   "source": [
    "# Importing all vision-related functions, classes, and utilities from fastai\n",
    "# This gives us easy access to tools for loading, training, and evaluating deep learning models for image data.\n",
    "from fastai.vision.all import *\n",
    "\n",
    "# Setting a fixed random seed to make our results reproducible\n",
    "# This ensures that the model, dataset shuffling, and other random processes give the same results every time we run the code.\n",
    "set_seed(42)\n",
    "\n",
    "# Importing parallel processing tools from fastcore\n",
    "# This helps speed up certain operations by running them in parallel across multiple CPU cores.\n",
    "from fastcore.parallel import *\n",
    "\n",
    "# Importing data core utilities from fastai\n",
    "# These are helpful for handling datasets, data loaders, and other data pipeline-related tasks.\n",
    "from fastai.data.core import *\n",
    "\n",
    "# Importing PyTorch, the backbone library behind fastai\n",
    "# We'll use PyTorch for tensor operations, GPU acceleration, and defining deep learning models.\n",
    "import torch\n",
    "\n",
    "# Importing the time module to measure execution time of code blocks\n",
    "# Useful for tracking how long training or data processing steps take.\n",
    "import time\n"
   ]
  },
  {
   "cell_type": "code",
   "execution_count": 2,
   "id": "ddd4469d",
   "metadata": {},
   "outputs": [],
   "source": [
    "import pandas as pd\n",
    "from pathlib import Path\n",
    "\n",
    "train_metadata_path = Path('/Users/Yashwanth/isic/train-metadata.csv')"
   ]
  },
  {
   "cell_type": "markdown",
   "id": "40d09c72",
   "metadata": {},
   "source": [
    "#  Delete all exciting files so there will be no overlaping  \n"
   ]
  },
  {
   "cell_type": "code",
   "execution_count": null,
   "id": "b876816a",
   "metadata": {},
   "outputs": [
    {
     "name": "stdout",
     "output_type": "stream",
     "text": [
      "Failed to delete C:/Users/Yashwanth/ISIC24_Skin_Cancer_Detection\\.git. Reason: [WinError 5] Access is denied: 'C:/Users/Yashwanth/ISIC24_Skin_Cancer_Detection\\\\.git\\\\objects\\\\02\\\\77b99e76736daccaf050c824a843bf85d2aa1d'\n",
      "Failed to delete C:/Users/Yashwanth/ISIC24_Skin_Cancer_Detection\\Fastai. Reason: [WinError 32] The process cannot access the file because it is being used by another process: 'C:/Users/Yashwanth/ISIC24_Skin_Cancer_Detection\\\\Fastai'\n",
      "All files and folders in the working directory have been deleted.\n"
     ]
    }
   ],
   "source": [
    "# Path to the working directory\n",
    "working_dir = 'C:/Users/Yashwanth/ISIC24_Skin_Cancer_Detection'\n",
    "\n",
    "# Loop through all files and folders in the directory\n",
    "for filename in os.listdir(working_dir):\n",
    "    file_path = os.path.join(working_dir, filename)\n",
    "    try:\n",
    "        # Check if it's a file or a folder\n",
    "        if os.path.isfile(file_path) or os.path.islink(file_path):\n",
    "            os.unlink(file_path)  # Delete the file\n",
    "        elif os.path.isdir(file_path):\n",
    "            shutil.rmtree(file_path)  # Delete the folder and its contents\n",
    "    except Exception as e:\n",
    "        print(f'Failed to delete {file_path}. Reason: {e}')\n",
    "\n",
    "print(\"All files and folders in the working directory have been deleted.\")"
   ]
  },
  {
   "cell_type": "code",
   "execution_count": null,
   "id": "77a3025e",
   "metadata": {},
   "outputs": [],
   "source": []
  }
 ],
 "metadata": {
  "kernelspec": {
   "display_name": "Python 3",
   "language": "python",
   "name": "python3"
  },
  "language_info": {
   "codemirror_mode": {
    "name": "ipython",
    "version": 3
   },
   "file_extension": ".py",
   "mimetype": "text/x-python",
   "name": "python",
   "nbconvert_exporter": "python",
   "pygments_lexer": "ipython3",
   "version": "3.13.5"
  }
 },
 "nbformat": 4,
 "nbformat_minor": 5
}
